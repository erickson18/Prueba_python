{
  "nbformat": 4,
  "nbformat_minor": 0,
  "metadata": {
    "colab": {
      "name": "Untitled1.ipynb",
      "provenance": [],
      "authorship_tag": "ABX9TyNzs9p51V6+k9I13MHYf3L/",
      "include_colab_link": true
    },
    "kernelspec": {
      "name": "python3",
      "display_name": "Python 3"
    },
    "language_info": {
      "name": "python"
    }
  },
  "cells": [
    {
      "cell_type": "markdown",
      "metadata": {
        "id": "view-in-github",
        "colab_type": "text"
      },
      "source": [
        "<a href=\"https://colab.research.google.com/github/erickson18/Prueba_python/blob/main/practica1.ipynb\" target=\"_parent\"><img src=\"https://colab.research.google.com/assets/colab-badge.svg\" alt=\"Open In Colab\"/></a>"
      ]
    },
    {
      "cell_type": "code",
      "execution_count": null,
      "metadata": {
        "id": "ihWiLNEFFWua"
      },
      "outputs": [],
      "source": [
        "print('Bienvenido! \\nEscriba los ingredientes que desee en su pizza \\nEscribe preparar para finalizar la pizza')\n",
        "\n",
        "ingrediente = ''\n",
        "while ingrediente != 'preparar':\n",
        "  ingredienete = input('')\n",
        "  print(ingrediente)"
      ]
    },
    {
      "cell_type": "code",
      "source": [
        "print ('Bienvenido!')\n",
        "pizza = \"\\nEscriba los ingredientes de su pizza:\"\n",
        "pizza += \"\\nEscribe 'preparar' para finalizar. \"\n",
        "\n",
        "message = \"\"\n",
        "while message != 'preparar':\n",
        "  message = input(pizza)\n",
        "  print(message)"
      ],
      "metadata": {
        "id": "Se3XSKKbHTKP"
      },
      "execution_count": null,
      "outputs": []
    },
    {
      "cell_type": "code",
      "source": [
        "edad = int(input(print('Digame su edad ')))\n",
        "\n",
        "if edad < 3:\n",
        "  precio = 'su entrada es gratuita'\n",
        "elif edad < 12:\n",
        "  precio = 10\n",
        "else:\n",
        "  precio = 15\n",
        "  \n",
        "\n",
        "print(f\"El precio de su entra es s/.{precio}.\")"
      ],
      "metadata": {
        "id": "oyY6sKg5IcAA"
      },
      "execution_count": null,
      "outputs": []
    },
    {
      "cell_type": "code",
      "source": [
        "pizza0 = ['peperoni','hawaina','americana']"
      ],
      "metadata": {
        "id": "mHBLfBBJKnOB"
      },
      "execution_count": null,
      "outputs": []
    }
  ]
}